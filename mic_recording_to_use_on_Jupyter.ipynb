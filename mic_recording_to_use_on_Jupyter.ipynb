{
 "cells": [
  {
   "cell_type": "markdown",
   "id": "5d3e436b",
   "metadata": {},
   "source": [
    "https://qiita.com/beeesssaaa/items/68342472694a3f74d86e"
   ]
  },
  {
   "cell_type": "code",
   "execution_count": 1,
   "id": "0c7944b8",
   "metadata": {},
   "outputs": [],
   "source": [
    "#!pip install pyaudio\n",
    "#!pip install keyboard\n",
    "#!pip install sounddevice"
   ]
  },
  {
   "cell_type": "code",
   "execution_count": 2,
   "id": "5732d276",
   "metadata": {},
   "outputs": [],
   "source": [
    "import pyaudio\n",
    "import numpy as np\n",
    "import scipy.io.wavfile\n",
    "import keyboard\n",
    "import matplotlib.pyplot as plt\n",
    "import sounddevice"
   ]
  },
  {
   "cell_type": "code",
   "execution_count": 3,
   "id": "580f9e24",
   "metadata": {},
   "outputs": [
    {
     "data": {
      "text/plain": [
       "{'index': 1,\n",
       " 'structVersion': 2,\n",
       " 'name': '繝槭う繧ｯ (USB PnP Sound Device)',\n",
       " 'hostApi': 0,\n",
       " 'maxInputChannels': 1,\n",
       " 'maxOutputChannels': 0,\n",
       " 'defaultLowInputLatency': 0.09,\n",
       " 'defaultLowOutputLatency': 0.09,\n",
       " 'defaultHighInputLatency': 0.18,\n",
       " 'defaultHighOutputLatency': 0.18,\n",
       " 'defaultSampleRate': 44100.0}"
      ]
     },
     "execution_count": 3,
     "metadata": {},
     "output_type": "execute_result"
    }
   ],
   "source": [
    "p = pyaudio.PyAudio()\n",
    "p.get_default_input_device_info()"
   ]
  },
  {
   "cell_type": "code",
   "execution_count": 4,
   "id": "cd589ce1",
   "metadata": {},
   "outputs": [],
   "source": [
    "CHUNK = 1024\n",
    "FORMAT = pyaudio.paFloat32\n",
    "CHANNELS = p.get_default_input_device_info()['index']     # 1\n",
    "RATE = 12000\n",
    "RECORD_SECONDS = 1"
   ]
  },
  {
   "cell_type": "code",
   "execution_count": 8,
   "id": "a951d567",
   "metadata": {},
   "outputs": [],
   "source": [
    "def recording_audio(output_name):\n",
    "    p = pyaudio.PyAudio()\n",
    "    stream = p.open(rate = RATE, channels = CHANNELS, format = FORMAT, input = True, frames_per_buffer = CHUNK)\n",
    "\n",
    "    print(\"Recording start ...          Press ENTER to stop recording\\n\")\n",
    "\n",
    "    frame = []\n",
    "    while True:                                 # start recording\n",
    "        \n",
    "        d = stream.read(CHUNK)\n",
    "        d = np.frombuffer(d, dtype=np.float32)   # convert numpy   \n",
    "        frame.append(d)\n",
    "\n",
    "        if keyboard.is_pressed(\"enter\"):\n",
    "            break                                # end recording\n",
    "\n",
    "    stream.stop_stream()                          # close\n",
    "    stream.close()\n",
    "    p.terminate()\n",
    "\n",
    "    frame = np.array(frame).flatten()\n",
    "    print(\"Stopped:   duration =  {:.2f}s\".format(frame.size / RATE))\n",
    "    \n",
    "    scipy.io.wavfile.write(output_name, RATE, frame)     # write wav file with scipy module\n",
    "    \n",
    "    plt.figure(figsize = (8, 2))\n",
    "    plt.plot(frame, color = \"gray\")"
   ]
  },
  {
   "cell_type": "code",
   "execution_count": 9,
   "id": "2df5acc7",
   "metadata": {},
   "outputs": [
    {
     "name": "stdout",
     "output_type": "stream",
     "text": [
      "Recording start ...          Press ENTER to stop recording\n",
      "\n",
      "Stopped:   duration =  2.65s\n"
     ]
    },
    {
     "data": {
      "image/png": "[encoded data removed]",
      "text/plain": [
       "<Figure size 800x200 with 1 Axes>"
      ]
     },
     "metadata": {},
     "output_type": "display_data"
    }
   ],
   "source": [
    "recording_audio('test.wav') "
   ]
  },
  {
   "cell_type": "code",
   "execution_count": 10,
   "id": "8128b400",
   "metadata": {},
   "outputs": [],
   "source": [
    "fs, data = scipy.io.wavfile.read('test.wav')\n",
    "sounddevice.play(data, fs)"
   ]
  },
  {
   "cell_type": "code",
   "execution_count": null,
   "id": "fc5ce11a",
   "metadata": {},
   "outputs": [],
   "source": []
  }
 ],
 "metadata": {
  "kernelspec": {
   "display_name": "Python 3 (ipykernel)",
   "language": "python",
   "name": "python3"
  },
  "language_info": {
   "codemirror_mode": {
    "name": "ipython",
    "version": 3
   },
   "file_extension": ".py",
   "mimetype": "text/x-python",
   "name": "python",
   "nbconvert_exporter": "python",
   "pygments_lexer": "ipython3",
   "version": "3.10.9"
  }
 },
 "nbformat": 4,
 "nbformat_minor": 5
}
