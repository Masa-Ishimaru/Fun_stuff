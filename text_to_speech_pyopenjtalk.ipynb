{
 "cells": [
  {
   "cell_type": "markdown",
   "id": "2f684bd5",
   "metadata": {},
   "source": [
    "https://github.com/r9y9/pyopenjtalk"
   ]
  },
  {
   "cell_type": "code",
   "execution_count": 1,
   "id": "bd136a16",
   "metadata": {},
   "outputs": [],
   "source": [
    "#!pip install pyopenjtalk"
   ]
  },
  {
   "cell_type": "code",
   "execution_count": 49,
   "id": "f58d59bf",
   "metadata": {},
   "outputs": [],
   "source": [
    "import pyopenjtalk\n",
    "import numpy as np\n",
    "from scipy.io import wavfile\n",
    "import scipy.io.wavfile\n",
    "import pyaudio\n",
    "import keyboard\n",
    "import wave\n",
    "from pydub import AudioSegment"
   ]
  },
  {
   "cell_type": "code",
   "execution_count": 50,
   "id": "f42d527c",
   "metadata": {},
   "outputs": [],
   "source": [
    "text = '''菜根譚から。せっかちで心が粗雑だと、一つの事さえ成し遂げられない。なごやかで平静だと、多くの幸いが自然に集まる。'''"
   ]
  },
  {
   "cell_type": "code",
   "execution_count": 51,
   "id": "39ff9a05",
   "metadata": {},
   "outputs": [],
   "source": [
    "x, sr = pyopenjtalk.tts(text)\n",
    "wavfile.write(\"pyopenjtalk_test.wav\", sr, x.astype(np.int16))"
   ]
  },
  {
   "cell_type": "code",
   "execution_count": 52,
   "id": "cf0dfdf9",
   "metadata": {},
   "outputs": [],
   "source": [
    "def play_audio(file_name):\n",
    "    print('\\nTo stop, press \"q\"')\n",
    "    wf = wave.open(file_name)\n",
    "    p = pyaudio.PyAudio()\n",
    "    stream = p.open(format = p.get_format_from_width(wf.getsampwidth()),\n",
    "                    channels = wf.getnchannels(),\n",
    "                    rate = wf.getframerate(),\n",
    "                    output = True)\n",
    "\n",
    "    chunk = 1024\n",
    "    data = wf.readframes(chunk)\n",
    "    \n",
    "    while data != b'':\n",
    "        stream.write(data)\n",
    "        data = wf.readframes(chunk)\n",
    "        \n",
    "        if keyboard.is_pressed(\"q\"):\n",
    "            print('\\nSTOP')\n",
    "            break\n",
    "        \n",
    "    stream.close()\n",
    "    p.terminate()"
   ]
  },
  {
   "cell_type": "code",
   "execution_count": 53,
   "id": "87373429",
   "metadata": {},
   "outputs": [
    {
     "name": "stdout",
     "output_type": "stream",
     "text": [
      "\n",
      "To stop, press \"q\"\n",
      "\n",
      "STOP\n"
     ]
    }
   ],
   "source": [
    "play_audio('pyopenjtalk_test.wav')"
   ]
  },
  {
   "cell_type": "markdown",
   "id": "42cbc572",
   "metadata": {},
   "source": [
    "change volume or talking speed"
   ]
  },
  {
   "cell_type": "code",
   "execution_count": 55,
   "id": "445b1a70",
   "metadata": {},
   "outputs": [
    {
     "name": "stdout",
     "output_type": "stream",
     "text": [
      "\n",
      "To stop, press \"q\"\n",
      "\n",
      "STOP\n"
     ]
    }
   ],
   "source": [
    "sound = AudioSegment.from_file(\"pyopenjtalk_test.wav\")\n",
    "\n",
    "changed_sound = sound - 20\n",
    "changed_sound = changed_sound.speedup(playback_speed = 1.25)\n",
    "\n",
    "changed_sound.export(\"changed_sound.wav\", format = \"wav\")\n",
    "play_audio('changed_sound.wav')"
   ]
  },
  {
   "cell_type": "code",
   "execution_count": null,
   "id": "7a711c3a",
   "metadata": {},
   "outputs": [],
   "source": []
  }
 ],
 "metadata": {
  "kernelspec": {
   "display_name": "Python 3 (ipykernel)",
   "language": "python",
   "name": "python3"
  },
  "language_info": {
   "codemirror_mode": {
    "name": "ipython",
    "version": 3
   },
   "file_extension": ".py",
   "mimetype": "text/x-python",
   "name": "python",
   "nbconvert_exporter": "python",
   "pygments_lexer": "ipython3",
   "version": "3.10.9"
  }
 },
 "nbformat": 4,
 "nbformat_minor": 5
}
