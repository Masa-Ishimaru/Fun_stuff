{
 "cells": [
  {
   "cell_type": "markdown",
   "id": "602711b8",
   "metadata": {},
   "source": [
    "https://amakazeryu.hatenablog.com/entry/2019/08/20/194831"
   ]
  },
  {
   "cell_type": "code",
   "execution_count": 1,
   "id": "e38cad09",
   "metadata": {},
   "outputs": [],
   "source": [
    "#!pip install pyttsx3\n",
    "#!pip install python-vlc"
   ]
  },
  {
   "cell_type": "code",
   "execution_count": 2,
   "id": "c903082f",
   "metadata": {},
   "outputs": [],
   "source": [
    "import pyttsx3\n",
    "import keyboard\n",
    "import sys\n",
    "import wave\n",
    "import pyaudio"
   ]
  },
  {
   "cell_type": "code",
   "execution_count": 3,
   "id": "dd00451f",
   "metadata": {},
   "outputs": [],
   "source": [
    "engine = pyttsx3.init()\n",
    "\n",
    "voices = engine.getProperty('voices')\n",
    "engine.setProperty(\"voice\", voices[0].id)\n",
    "rate = engine.getProperty('rate')\n",
    "engine.setProperty('rate', rate-10)"
   ]
  },
  {
   "cell_type": "code",
   "execution_count": 4,
   "id": "0d50adbb",
   "metadata": {},
   "outputs": [],
   "source": [
    "text = '''\n",
    "菜根譚から。小さな過失はとがめない、隠し事は暴かない、古傷は忘れてやる。他人に対してこの三つのことを心がければ、\\\n",
    "自分の人格を高めるばかりでなく、人の恨みを買うこともない\n",
    "'''"
   ]
  },
  {
   "cell_type": "code",
   "execution_count": 5,
   "id": "bbad0fed",
   "metadata": {},
   "outputs": [],
   "source": [
    "engine.save_to_file(text, 'text2speech.wav')"
   ]
  },
  {
   "cell_type": "code",
   "execution_count": 6,
   "id": "a7fd4543",
   "metadata": {},
   "outputs": [],
   "source": [
    "#engine.say(text)\n",
    "engine.runAndWait()"
   ]
  },
  {
   "cell_type": "code",
   "execution_count": 7,
   "id": "f51a5d5c",
   "metadata": {},
   "outputs": [],
   "source": [
    "def play_audio():\n",
    "    print('\\nTo stop, press \"q\"')\n",
    "    wf = wave.open('text2speech.wav')\n",
    "    p = pyaudio.PyAudio()\n",
    "    stream = p.open(format = p.get_format_from_width(wf.getsampwidth()),\n",
    "                    channels = wf.getnchannels(),\n",
    "                    rate = wf.getframerate(),\n",
    "                    output = True)\n",
    "\n",
    "    chunk = 1024\n",
    "    data = wf.readframes(chunk)\n",
    "    \n",
    "    while data != b'':\n",
    "        stream.write(data)\n",
    "        data = wf.readframes(chunk)\n",
    "        \n",
    "        if keyboard.is_pressed(\"q\"):\n",
    "            print('\\nSTOP')\n",
    "            break\n",
    "        \n",
    "    stream.close()\n",
    "    p.terminate()"
   ]
  },
  {
   "cell_type": "code",
   "execution_count": null,
   "id": "5c771091",
   "metadata": {},
   "outputs": [
    {
     "name": "stdout",
     "output_type": "stream",
     "text": [
      "\n",
      "To stop, press \"q\"\n"
     ]
    }
   ],
   "source": [
    "play_audio()"
   ]
  },
  {
   "cell_type": "code",
   "execution_count": null,
   "id": "554b26b8",
   "metadata": {},
   "outputs": [],
   "source": []
  },
  {
   "cell_type": "code",
   "execution_count": null,
   "id": "00132cef",
   "metadata": {},
   "outputs": [],
   "source": []
  },
  {
   "cell_type": "code",
   "execution_count": null,
   "id": "9fb2d6af",
   "metadata": {},
   "outputs": [],
   "source": [
    "# 2nd option because cannot stop on the way\n",
    "\n",
    "# import vlc\n",
    "\n",
    "# p = vlc.MediaPlayer(\"text2speech.wav\")\n",
    "# p.play()"
   ]
  },
  {
   "cell_type": "code",
   "execution_count": null,
   "id": "c21f7949",
   "metadata": {},
   "outputs": [],
   "source": []
  }
 ],
 "metadata": {
  "kernelspec": {
   "display_name": "Python 3 (ipykernel)",
   "language": "python",
   "name": "python3"
  },
  "language_info": {
   "codemirror_mode": {
    "name": "ipython",
    "version": 3
   },
   "file_extension": ".py",
   "mimetype": "text/x-python",
   "name": "python",
   "nbconvert_exporter": "python",
   "pygments_lexer": "ipython3",
   "version": "3.10.9"
  }
 },
 "nbformat": 4,
 "nbformat_minor": 5
}
