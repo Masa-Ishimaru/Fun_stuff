{
 "cells": [
  {
   "cell_type": "code",
   "execution_count": null,
   "id": "42dd6c14",
   "metadata": {},
   "outputs": [],
   "source": [
    "#!pip install ffmpeg-python\n",
    "#!pip install ffmpeg\n",
    "#!pip install opencv-python"
   ]
  },
  {
   "cell_type": "code",
   "execution_count": null,
   "id": "6e62dffc",
   "metadata": {},
   "outputs": [],
   "source": [
    "import warnings\n",
    "warnings.simplefilter('ignore')"
   ]
  },
  {
   "cell_type": "code",
   "execution_count": null,
   "id": "ab78e778",
   "metadata": {},
   "outputs": [],
   "source": [
    "import ffmpeg\n",
    "import subprocess\n",
    "import cv2\n",
    "import glob\n",
    "import os"
   ]
  },
  {
   "cell_type": "code",
   "execution_count": null,
   "id": "f60e9ab9",
   "metadata": {},
   "outputs": [],
   "source": [
    "# make directory for the final movie\n",
    "\n",
    "os.makedirs('mp4_output', exist_ok=True)"
   ]
  },
  {
   "cell_type": "markdown",
   "id": "03096a12",
   "metadata": {},
   "source": [
    "### Put m2ts files in the same folder"
   ]
  },
  {
   "cell_type": "markdown",
   "id": "2d530d1e",
   "metadata": {},
   "source": [
    "## Merge m2ts files"
   ]
  },
  {
   "cell_type": "code",
   "execution_count": null,
   "id": "05fea897",
   "metadata": {},
   "outputs": [],
   "source": [
    "# read m2ts movie files\n",
    "\n",
    "files_in = sorted(glob.glob(\"*.m2ts\"))\n",
    "print(files_in)"
   ]
  },
  {
   "cell_type": "code",
   "execution_count": null,
   "id": "00e24028",
   "metadata": {},
   "outputs": [],
   "source": [
    "file_names = ''\n",
    "for file_name in files_in:\n",
    "    file_names = file_names + ' ' + file_name    \n",
    "print(file_names)\n",
    "\n",
    "command_1 = 'cat' + file_names + ' > merged.m2ts'\n",
    "print(command_1)"
   ]
  },
  {
   "cell_type": "code",
   "execution_count": null,
   "id": "56aa0b10",
   "metadata": {},
   "outputs": [],
   "source": [
    "subprocess.call(command_1, shell = True)"
   ]
  },
  {
   "cell_type": "markdown",
   "id": "0c9a1b2d",
   "metadata": {},
   "source": [
    "## Convert the merged m2ts file to mp4 video file"
   ]
  },
  {
   "cell_type": "code",
   "execution_count": null,
   "id": "b0f80da0",
   "metadata": {},
   "outputs": [],
   "source": [
    "command_2 = 'ffmpeg -i ' + 'merged.m2ts' + ' -c:v copy -c:a copy ' + 'mp4_output/out_movie.mp4'\n",
    "subprocess.call(command_2, shell = True)"
   ]
  },
  {
   "cell_type": "code",
   "execution_count": null,
   "id": "edb00416",
   "metadata": {},
   "outputs": [],
   "source": []
  },
  {
   "cell_type": "code",
   "execution_count": null,
   "id": "9436e65b",
   "metadata": {},
   "outputs": [],
   "source": []
  }
 ],
 "metadata": {
  "kernelspec": {
   "display_name": "Python 3 (ipykernel)",
   "language": "python",
   "name": "python3"
  },
  "language_info": {
   "codemirror_mode": {
    "name": "ipython",
    "version": 3
   },
   "file_extension": ".py",
   "mimetype": "text/x-python",
   "name": "python",
   "nbconvert_exporter": "python",
   "pygments_lexer": "ipython3",
   "version": "3.10.9"
  }
 },
 "nbformat": 4,
 "nbformat_minor": 5
}
